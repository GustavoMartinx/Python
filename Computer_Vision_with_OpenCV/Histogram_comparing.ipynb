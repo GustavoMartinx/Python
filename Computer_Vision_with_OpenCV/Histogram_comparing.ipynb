{
 "cells": [
  {
   "attachments": {},
   "cell_type": "markdown",
   "metadata": {},
   "source": [
    "## Histogram Comparing\n",
    "\n",
    "Check if the histograms of two images are the same (or very similar) and, if they are, it can be interpreted that the images are, in some way, the same or similar.\n",
    "\n",
    "##### Library Importing"
   ]
  },
  {
   "cell_type": "code",
   "execution_count": 2,
   "metadata": {},
   "outputs": [],
   "source": [
    "import pandas as pd\n",
    "import cv2 as cv\n",
    "import numpy as np\n",
    "import glob\n",
    "import os"
   ]
  },
  {
   "attachments": {},
   "cell_type": "markdown",
   "metadata": {},
   "source": [
    "##### Methods to Compare Histograms\n",
    "\n",
    "`compareHist(H1, H2, method)` <br>\n",
    "* Input: <br>\n",
    "    1.\t`H1`: First histogram to be compared; <br>\n",
    "    2.  `H2`: Second histogram to be compared; <br>\n",
    "    3.  `method`: Flag indicating which comparation method should be executed. <br>\n",
    "            `HISTCMP_CORREL`: Calculate the correlation between two histograms; <br>\n",
    "            `HISTCMP_CHISQR`: Apply the Chi-Square distance to histograms; <br>\n",
    "            `HISTCMP_INTESECT`: Calculate the intersection between two histograms; <br>\n",
    "            `HISTCMP_BHATTACHARYYA`: Apply the Bhattacharyya distance. Used to mesure the overlap between two histograms. <br><br>\n",
    "\n",
    "* Output: Graph representing the histogram of the image.<br><br><br>\n",
    "\n",
    "\n",
    "`calcHist([img], [channels], mask, [histSize], ranges)` <br>\n",
    "* Input: <br>\n",
    "    1.\t`img`: Image to be analyzed; <br>\n",
    "    2.  `channels`: Index of the channel on which the histogram will be calculated; <br>\n",
    "    3.  `mask`: Mask image (if you want to compare the fully image, pass: `None`); <br>\n",
    "    4.  `histSize`: Represents BIN couting (usually `256` as it is the full scale of values); <br>\n",
    "    5.  `ranges`: Image values range (`0` to `256`). <br><br>\n",
    "* Output: Graph representing the histogram of the image."
   ]
  },
  {
   "cell_type": "code",
   "execution_count": 3,
   "metadata": {},
   "outputs": [
    {
     "name": "stdout",
     "output_type": "stream",
     "text": [
      "Img\\apple1.jpg\n",
      "Img\\apple2.jpg\n",
      "Img\\apple3.jpg\n",
      "Img\\apple_green.jpg\n",
      "Img\\Binaria.jpg\n",
      "Img\\Cinza.jpg\n",
      "Img\\colorida.jpg\n",
      "Img\\colorida0.jpg\n",
      "Img\\einstein.jpg\n",
      "Img\\pineapple.jpg\n"
     ]
    }
   ],
   "source": [
    "# Index dictionary to storage image name and its corresponding histogram\n",
    "index = {}\n",
    "\n",
    "# Images dictionary to storage image name and its corresponsing the image itself\n",
    "images = {}\n",
    "\n",
    "# Getting the imagens in folder\n",
    "for imagePath in glob.glob(os.getcwd() + \"/Resources/Img/*.jpg\"):\n",
    "\n",
    "    # Extracting the image filename (considered unique) and load\n",
    "    # the image, updating the image dictionary\n",
    "    fileName = imagePath[imagePath.rfind(\"/\") + 1:]\n",
    "    print(fileName)\n",
    "    image = cv.imread(imagePath)\n",
    "    images[fileName] = cv.cvtColor(image, cv.COLOR_BGR2RGB)\n",
    "\n",
    "    # Extracting an RGB color histogram from the image using 8 boxes per channel\n",
    "    hist = cv.calcHist([image], [1,2], None, [8, 8], [0, 256, 0, 256])\n",
    "    hist = cv.normalize(hist, hist).flatten() # flatten converts to 1D array\n",
    "    index[fileName] = hist"
   ]
  },
  {
   "cell_type": "code",
   "execution_count": 4,
   "metadata": {},
   "outputs": [
    {
     "data": {
      "text/plain": [
       "{'Img\\\\apple1.jpg': array([8.4590201e-06, 5.4560677e-04, 1.0298857e-03, 2.2162632e-03,\n",
       "        3.1234932e-03, 6.7693307e-03, 1.4371876e-02, 4.0645590e-03,\n",
       "        0.0000000e+00, 1.5014761e-04, 1.0869841e-03, 2.7047717e-03,\n",
       "        1.4338039e-03, 6.3484944e-03, 2.1481682e-02, 2.2329699e-02,\n",
       "        2.5165585e-04, 6.5768883e-04, 1.2054104e-04, 1.3936235e-03,\n",
       "        2.5842306e-03, 1.7552467e-03, 1.4331695e-02, 3.7640523e-02,\n",
       "        5.7098387e-05, 4.4621332e-03, 4.7793463e-04, 3.6796738e-04,\n",
       "        2.2226076e-03, 2.5694275e-03, 8.8291019e-03, 4.7571413e-02,\n",
       "        0.0000000e+00, 1.9371156e-03, 4.1153133e-03, 7.0421345e-04,\n",
       "        1.0214266e-03, 4.1005099e-03, 5.3439857e-03, 4.4970267e-02,\n",
       "        0.0000000e+00, 0.0000000e+00, 1.9603779e-03, 8.0402987e-03,\n",
       "        4.5742150e-03, 2.1316730e-03, 8.2179382e-03, 2.2365650e-02,\n",
       "        0.0000000e+00, 0.0000000e+00, 0.0000000e+00, 1.3111481e-04,\n",
       "        6.8877572e-03, 1.4190007e-03, 5.8261501e-03, 2.0511009e-02,\n",
       "        0.0000000e+00, 0.0000000e+00, 0.0000000e+00, 0.0000000e+00,\n",
       "        0.0000000e+00, 5.0754119e-05, 4.6524612e-04, 9.9571127e-01],\n",
       "       dtype=float32),\n",
       " 'Img\\\\apple2.jpg': array([0.0000000e+00, 4.7261792e-04, 1.5337360e-03, 1.4701143e-03,\n",
       "        1.0524837e-02, 3.1140521e-02, 4.3262718e-03, 4.5444031e-05,\n",
       "        0.0000000e+00, 9.0888061e-06, 9.5886906e-04, 1.7791338e-03,\n",
       "        2.9311399e-03, 3.1333659e-02, 3.7888959e-02, 5.5555329e-03,\n",
       "        0.0000000e+00, 1.8177612e-05, 3.1810821e-05, 1.2587997e-03,\n",
       "        3.8581982e-03, 9.4887139e-03, 4.2237952e-02, 2.7100548e-02,\n",
       "        0.0000000e+00, 6.4984965e-04, 1.0611181e-03, 1.8632053e-04,\n",
       "        2.3358231e-03, 5.4555559e-03, 2.3603629e-02, 3.5371359e-02,\n",
       "        0.0000000e+00, 2.0449814e-05, 1.9745431e-03, 2.8516129e-03,\n",
       "        2.7039199e-04, 5.6600538e-03, 1.7230105e-02, 2.8284365e-02,\n",
       "        0.0000000e+00, 0.0000000e+00, 2.4994217e-05, 3.4696518e-03,\n",
       "        5.8850017e-03, 1.0179463e-03, 1.5878145e-02, 3.7227750e-02,\n",
       "        0.0000000e+00, 0.0000000e+00, 0.0000000e+00, 0.0000000e+00,\n",
       "        2.4448889e-03, 4.6966407e-03, 1.0997456e-02, 3.9136399e-02,\n",
       "        0.0000000e+00, 0.0000000e+00, 0.0000000e+00, 0.0000000e+00,\n",
       "        0.0000000e+00, 2.7266418e-05, 7.7482074e-04, 9.9370873e-01],\n",
       "       dtype=float32),\n",
       " 'Img\\\\apple3.jpg': array([0.0000000e+00, 4.0137642e-03, 2.5933024e-02, 8.0272838e-02,\n",
       "        9.4531238e-02, 5.3630929e-02, 4.0479861e-03, 0.0000000e+00,\n",
       "        0.0000000e+00, 1.5155504e-04, 1.1848182e-02, 1.0019744e-02,\n",
       "        3.2635666e-02, 4.9893387e-02, 1.3928398e-02, 1.8577714e-04,\n",
       "        0.0000000e+00, 0.0000000e+00, 1.5522169e-03, 8.3795274e-03,\n",
       "        5.3362041e-03, 1.4647062e-02, 2.1765260e-02, 1.6035502e-03,\n",
       "        0.0000000e+00, 0.0000000e+00, 2.4957694e-03, 5.2970932e-03,\n",
       "        6.5242001e-03, 2.9944342e-03, 1.1723516e-02, 3.8646536e-03,\n",
       "        0.0000000e+00, 0.0000000e+00, 0.0000000e+00, 9.1666356e-03,\n",
       "        7.0081986e-03, 6.6537554e-03, 6.3750898e-03, 4.9304278e-03,\n",
       "        0.0000000e+00, 0.0000000e+00, 0.0000000e+00, 0.0000000e+00,\n",
       "        9.2130797e-03, 9.2277462e-03, 7.9493066e-03, 9.9341888e-03,\n",
       "        0.0000000e+00, 0.0000000e+00, 0.0000000e+00, 0.0000000e+00,\n",
       "        0.0000000e+00, 3.8035426e-03, 1.2036404e-02, 2.3192810e-02,\n",
       "        0.0000000e+00, 0.0000000e+00, 0.0000000e+00, 0.0000000e+00,\n",
       "        0.0000000e+00, 0.0000000e+00, 3.7888761e-04, 9.8729312e-01],\n",
       "       dtype=float32),\n",
       " 'Img\\\\apple_green.jpg': array([1.8707684e-06, 3.9286137e-05, 2.0391376e-04, 3.5544599e-05,\n",
       "        0.0000000e+00, 0.0000000e+00, 0.0000000e+00, 0.0000000e+00,\n",
       "        2.9183988e-04, 1.2534148e-04, 3.1054756e-04, 6.7908893e-04,\n",
       "        3.9660290e-04, 5.6123054e-06, 0.0000000e+00, 0.0000000e+00,\n",
       "        5.6684285e-04, 5.0679115e-03, 3.5731678e-04, 2.9183988e-04,\n",
       "        5.1259057e-04, 3.7789522e-04, 3.7415368e-06, 0.0000000e+00,\n",
       "        0.0000000e+00, 2.6059805e-03, 1.5841667e-02, 1.0588550e-03,\n",
       "        6.6973508e-04, 2.8622756e-04, 1.8146454e-04, 0.0000000e+00,\n",
       "        0.0000000e+00, 0.0000000e+00, 2.6920359e-03, 1.4956794e-02,\n",
       "        3.4403431e-03, 2.5779188e-03, 1.5901531e-04, 1.8707684e-06,\n",
       "        0.0000000e+00, 0.0000000e+00, 0.0000000e+00, 6.2483666e-04,\n",
       "        2.3852298e-02, 7.2997385e-03, 2.3515560e-03, 1.0663380e-04,\n",
       "        0.0000000e+00, 0.0000000e+00, 0.0000000e+00, 0.0000000e+00,\n",
       "        9.1854727e-04, 4.7167685e-02, 2.5992457e-02, 5.2213147e-03,\n",
       "        0.0000000e+00, 0.0000000e+00, 0.0000000e+00, 0.0000000e+00,\n",
       "        0.0000000e+00, 1.8707684e-06, 3.2596268e-02, 9.9741888e-01],\n",
       "       dtype=float32),\n",
       " 'Img\\\\Binaria.jpg': array([0.30638835, 0.        , 0.        , 0.        , 0.        ,\n",
       "        0.        , 0.        , 0.        , 0.        , 0.04208011,\n",
       "        0.        , 0.        , 0.        , 0.        , 0.        ,\n",
       "        0.        , 0.        , 0.        , 0.0406397 , 0.        ,\n",
       "        0.        , 0.        , 0.        , 0.        , 0.        ,\n",
       "        0.        , 0.        , 0.04213788, 0.        , 0.        ,\n",
       "        0.        , 0.        , 0.        , 0.        , 0.        ,\n",
       "        0.        , 0.04347431, 0.        , 0.        , 0.        ,\n",
       "        0.        , 0.        , 0.        , 0.        , 0.        ,\n",
       "        0.04729487, 0.        , 0.        , 0.        , 0.        ,\n",
       "        0.        , 0.        , 0.        , 0.        , 0.05791311,\n",
       "        0.        , 0.        , 0.        , 0.        , 0.        ,\n",
       "        0.        , 0.        , 0.        , 0.94522345], dtype=float32),\n",
       " 'Img\\\\Cinza.jpg': array([0.0685923 , 0.        , 0.        , 0.        , 0.        ,\n",
       "        0.        , 0.        , 0.        , 0.        , 0.10926125,\n",
       "        0.        , 0.        , 0.        , 0.        , 0.        ,\n",
       "        0.        , 0.        , 0.        , 0.17009251, 0.        ,\n",
       "        0.        , 0.        , 0.        , 0.        , 0.        ,\n",
       "        0.        , 0.        , 0.55680007, 0.        , 0.        ,\n",
       "        0.        , 0.        , 0.        , 0.        , 0.        ,\n",
       "        0.        , 0.73601454, 0.        , 0.        , 0.        ,\n",
       "        0.        , 0.        , 0.        , 0.        , 0.        ,\n",
       "        0.27815682, 0.        , 0.        , 0.        , 0.        ,\n",
       "        0.        , 0.        , 0.        , 0.        , 0.15892099,\n",
       "        0.        , 0.        , 0.        , 0.        , 0.        ,\n",
       "        0.        , 0.        , 0.        , 0.00741125], dtype=float32),\n",
       " 'Img\\\\colorida.jpg': array([4.7019467e-02, 7.2593860e-02, 1.4600902e-03, 0.0000000e+00,\n",
       "        0.0000000e+00, 0.0000000e+00, 0.0000000e+00, 0.0000000e+00,\n",
       "        1.6730200e-04, 5.7719190e-02, 9.4632097e-02, 1.5133226e-03,\n",
       "        0.0000000e+00, 0.0000000e+00, 0.0000000e+00, 0.0000000e+00,\n",
       "        0.0000000e+00, 1.5969736e-04, 9.4221443e-02, 1.7447317e-01,\n",
       "        5.0951063e-04, 0.0000000e+00, 0.0000000e+00, 0.0000000e+00,\n",
       "        0.0000000e+00, 0.0000000e+00, 7.6046363e-06, 3.4338737e-01,\n",
       "        5.2348793e-01, 2.2053445e-04, 0.0000000e+00, 0.0000000e+00,\n",
       "        0.0000000e+00, 0.0000000e+00, 0.0000000e+00, 0.0000000e+00,\n",
       "        5.8367866e-01, 3.4904519e-01, 7.6046363e-06, 0.0000000e+00,\n",
       "        0.0000000e+00, 0.0000000e+00, 0.0000000e+00, 0.0000000e+00,\n",
       "        0.0000000e+00, 1.9236688e-01, 1.6129434e-01, 0.0000000e+00,\n",
       "        0.0000000e+00, 0.0000000e+00, 0.0000000e+00, 0.0000000e+00,\n",
       "        0.0000000e+00, 0.0000000e+00, 1.4121050e-01, 5.6395981e-02,\n",
       "        0.0000000e+00, 0.0000000e+00, 0.0000000e+00, 0.0000000e+00,\n",
       "        0.0000000e+00, 0.0000000e+00, 0.0000000e+00, 1.7308151e-02],\n",
       "       dtype=float32),\n",
       " 'Img\\\\colorida0.jpg': array([4.7019467e-02, 7.2593860e-02, 1.4600902e-03, 0.0000000e+00,\n",
       "        0.0000000e+00, 0.0000000e+00, 0.0000000e+00, 0.0000000e+00,\n",
       "        1.6730200e-04, 5.7719190e-02, 9.4632097e-02, 1.5133226e-03,\n",
       "        0.0000000e+00, 0.0000000e+00, 0.0000000e+00, 0.0000000e+00,\n",
       "        0.0000000e+00, 1.5969736e-04, 9.4221443e-02, 1.7447317e-01,\n",
       "        5.0951063e-04, 0.0000000e+00, 0.0000000e+00, 0.0000000e+00,\n",
       "        0.0000000e+00, 0.0000000e+00, 7.6046363e-06, 3.4338737e-01,\n",
       "        5.2348793e-01, 2.2053445e-04, 0.0000000e+00, 0.0000000e+00,\n",
       "        0.0000000e+00, 0.0000000e+00, 0.0000000e+00, 0.0000000e+00,\n",
       "        5.8367866e-01, 3.4904519e-01, 7.6046363e-06, 0.0000000e+00,\n",
       "        0.0000000e+00, 0.0000000e+00, 0.0000000e+00, 0.0000000e+00,\n",
       "        0.0000000e+00, 1.9236688e-01, 1.6129434e-01, 0.0000000e+00,\n",
       "        0.0000000e+00, 0.0000000e+00, 0.0000000e+00, 0.0000000e+00,\n",
       "        0.0000000e+00, 0.0000000e+00, 1.4121050e-01, 5.6395981e-02,\n",
       "        0.0000000e+00, 0.0000000e+00, 0.0000000e+00, 0.0000000e+00,\n",
       "        0.0000000e+00, 0.0000000e+00, 0.0000000e+00, 1.7308151e-02],\n",
       "       dtype=float32),\n",
       " 'Img\\\\einstein.jpg': array([0.912221  , 0.        , 0.        , 0.        , 0.        ,\n",
       "        0.        , 0.        , 0.        , 0.        , 0.32763523,\n",
       "        0.        , 0.        , 0.        , 0.        , 0.        ,\n",
       "        0.        , 0.        , 0.        , 0.17234853, 0.        ,\n",
       "        0.        , 0.        , 0.        , 0.        , 0.        ,\n",
       "        0.        , 0.        , 0.07136177, 0.        , 0.        ,\n",
       "        0.        , 0.        , 0.        , 0.        , 0.        ,\n",
       "        0.        , 0.08175835, 0.        , 0.        , 0.        ,\n",
       "        0.        , 0.        , 0.        , 0.        , 0.        ,\n",
       "        0.09733818, 0.        , 0.        , 0.        , 0.        ,\n",
       "        0.        , 0.        , 0.        , 0.        , 0.08939405,\n",
       "        0.        , 0.        , 0.        , 0.        , 0.        ,\n",
       "        0.        , 0.        , 0.        , 0.03951002], dtype=float32),\n",
       " 'Img\\\\pineapple.jpg': array([1.48089800e-03, 1.18471842e-04, 1.34419970e-04, 1.59481322e-04,\n",
       "        2.50613521e-05, 0.00000000e+00, 0.00000000e+00, 0.00000000e+00,\n",
       "        6.06940361e-03, 2.02541286e-03, 1.44444522e-03, 1.97529024e-03,\n",
       "        1.33736490e-03, 4.60217561e-04, 2.48335215e-04, 6.83491407e-06,\n",
       "        5.42464340e-03, 5.41780842e-03, 3.56554682e-03, 2.81598466e-03,\n",
       "        3.69768846e-03, 3.18734837e-03, 3.07571143e-03, 9.02208674e-04,\n",
       "        4.92113817e-04, 7.25184381e-03, 5.71171008e-03, 4.10094857e-03,\n",
       "        3.41517874e-03, 4.82544955e-03, 7.89660402e-03, 7.70750456e-03,\n",
       "        0.00000000e+00, 1.16649200e-03, 1.21228592e-02, 1.14621511e-02,\n",
       "        4.96442569e-03, 4.66368953e-03, 1.14758210e-02, 2.95610037e-02,\n",
       "        0.00000000e+00, 0.00000000e+00, 1.98212510e-04, 8.58237408e-03,\n",
       "        1.31162005e-02, 6.56835223e-03, 9.25903022e-03, 1.41138703e-01,\n",
       "        0.00000000e+00, 0.00000000e+00, 0.00000000e+00, 9.11321877e-06,\n",
       "        2.18261592e-03, 7.27007026e-03, 1.06806923e-02, 1.13484636e-01,\n",
       "        0.00000000e+00, 0.00000000e+00, 0.00000000e+00, 0.00000000e+00,\n",
       "        0.00000000e+00, 1.02523714e-04, 2.84332433e-03, 9.82288778e-01],\n",
       "       dtype=float32)}"
      ]
     },
     "execution_count": 4,
     "metadata": {},
     "output_type": "execute_result"
    }
   ],
   "source": [
    "# Checking the Histogram Calc\n",
    "\n",
    "index "
   ]
  },
  {
   "attachments": {},
   "cell_type": "markdown",
   "metadata": {},
   "source": [
    "#### Methods to Histogram Calc"
   ]
  },
  {
   "cell_type": "code",
   "execution_count": 45,
   "metadata": {},
   "outputs": [],
   "source": [
    "OPENCV_METHODS = (\n",
    "    (\"Correlation\", cv.HISTCMP_CORREL),\n",
    "    (\"Chi-Squared\", cv.HISTCMP_CHISQR),\n",
    "    (\"Intersection\", cv.HISTCMP_INTERSECT),\n",
    "    (\"Bhattacharyya\", cv.HISTCMP_BHATTACHARYYA))\n",
    "\n",
    "analyzedImg = 'Img\\\\apple1.jpg'\n",
    "\n",
    "results_list = []\n",
    "methods_names_list = []\n",
    "\n",
    "for (methodName, method) in OPENCV_METHODS:\n",
    "    \n",
    "    results = {}\n",
    "    reverse = False\n",
    "\n",
    "    # If we are using correlation or intersection:\n",
    "    # Classify the results in rerse order\n",
    "    if methodName in (\"Correlation\", \"Intersection\"):\n",
    "        reverse = True\n",
    "    \n",
    "    for (k, hist) in index.items():\n",
    "        # Claculate the distance between two histograms using the methods\n",
    "        # Update results dictionary\n",
    "        d = cv.compareHist(index[analyzedImg], hist, method)\n",
    "        results[k] = d\n",
    "\n",
    "    # Sorting the results\n",
    "    methods_names_list.append(methodName)\n",
    "    results = sorted([(v, k) for (v, k) in results.items()], reverse = reverse)\n",
    "    results_list.append(results)"
   ]
  },
  {
   "cell_type": "code",
   "execution_count": 46,
   "metadata": {},
   "outputs": [
    {
     "data": {
      "text/plain": [
       "[[('Img\\\\pineapple.jpg', 0.9856005600869122),\n",
       "  ('Img\\\\einstein.jpg', 0.0024663768916125053),\n",
       "  ('Img\\\\colorida0.jpg', -0.04022128548982981),\n",
       "  ('Img\\\\colorida.jpg', -0.04022128548982981),\n",
       "  ('Img\\\\apple_green.jpg', 0.99374455258592),\n",
       "  ('Img\\\\apple3.jpg', 0.9865322210986823),\n",
       "  ('Img\\\\apple2.jpg', 0.9977949986529369),\n",
       "  ('Img\\\\apple1.jpg', 1.0),\n",
       "  ('Img\\\\Cinza.jpg', -0.03594841932083633),\n",
       "  ('Img\\\\Binaria.jpg', 0.9399692187994699)],\n",
       " [('Img\\\\Binaria.jpg', 11130.477169003187),\n",
       "  ('Img\\\\Cinza.jpg', 2286.426832628531),\n",
       "  ('Img\\\\apple1.jpg', 0.0),\n",
       "  ('Img\\\\apple2.jpg', 0.46854840131568914),\n",
       "  ('Img\\\\apple3.jpg', 8.074007497620023),\n",
       "  ('Img\\\\apple_green.jpg', 4.982400138697053),\n",
       "  ('Img\\\\colorida.jpg', 1223.5607416044397),\n",
       "  ('Img\\\\colorida0.jpg', 1223.5607416044397),\n",
       "  ('Img\\\\einstein.jpg', 99359.26689037033),\n",
       "  ('Img\\\\pineapple.jpg', 2.1143753210409972)],\n",
       " [('Img\\\\pineapple.jpg', 1.1465068510374294),\n",
       "  ('Img\\\\einstein.jpg', 0.04913638391644781),\n",
       "  ('Img\\\\colorida0.jpg', 0.06846095510536543),\n",
       "  ('Img\\\\colorida.jpg', 0.06846095510536543),\n",
       "  ('Img\\\\apple_green.jpg', 1.0351118630470637),\n",
       "  ('Img\\\\apple3.jpg', 1.1398096398916095),\n",
       "  ('Img\\\\apple2.jpg', 1.2569620175636373),\n",
       "  ('Img\\\\apple1.jpg', 1.3534432270998877),\n",
       "  ('Img\\\\Cinza.jpg', 0.017037612843523675),\n",
       "  ('Img\\\\Binaria.jpg', 0.9548498154535991)],\n",
       " [('Img\\\\Binaria.jpg', 0.5414776988745068),\n",
       "  ('Img\\\\Cinza.jpg', 0.9411999019062316),\n",
       "  ('Img\\\\apple1.jpg', 0.0),\n",
       "  ('Img\\\\apple2.jpg', 0.1610709497331469),\n",
       "  ('Img\\\\apple3.jpg', 0.34973544724834466),\n",
       "  ('Img\\\\apple_green.jpg', 0.38059305604662713),\n",
       "  ('Img\\\\colorida.jpg', 0.8927848297517853),\n",
       "  ('Img\\\\colorida0.jpg', 0.8927848297517853),\n",
       "  ('Img\\\\einstein.jpg', 0.9112322888562902),\n",
       "  ('Img\\\\pineapple.jpg', 0.2995433724518647)]]"
      ]
     },
     "execution_count": 46,
     "metadata": {},
     "output_type": "execute_result"
    }
   ],
   "source": [
    "# The generated output is a list of lists, in which each of the internal lists\n",
    "# corresponds to a comparison method. This comparison is made of the analyzed\n",
    "# image with all the others (including itself).\n",
    "\n",
    "results_list"
   ]
  },
  {
   "attachments": {},
   "cell_type": "markdown",
   "metadata": {},
   "source": [
    "##### Creating DataFrame"
   ]
  },
  {
   "cell_type": "code",
   "execution_count": 47,
   "metadata": {},
   "outputs": [],
   "source": [
    "for i in range(len(methods_names_list)):\n",
    "    results_list[i] = pd.DataFrame(results_list[i])\n",
    "    results_list[i][\"Method\"] = methods_names_list[i]\n",
    "\n",
    "df = pd.concat(results_list)\n",
    "df.to_csv('./Resources/Others/Result_compare_hist.csv', sep=';', encoding='latin1')"
   ]
  },
  {
   "attachments": {},
   "cell_type": "markdown",
   "metadata": {},
   "source": [
    "##### DataFrame Analysis"
   ]
  },
  {
   "cell_type": "code",
   "execution_count": 48,
   "metadata": {},
   "outputs": [
    {
     "name": "stdout",
     "output_type": "stream",
     "text": [
      "0.9856005600869122\n",
      "0.0024663768916125053\n",
      "-0.04022128548982981\n",
      "-0.04022128548982981\n",
      "0.99374455258592\n",
      "0.9865322210986823\n",
      "0.9977949986529369\n",
      "1.0\n",
      "-0.03594841932083633\n",
      "0.9399692187994699\n"
     ]
    }
   ],
   "source": [
    "# Method: Correlation\n",
    "correlation = df.loc[df['Method'] == 'Correlation']\n",
    "correlation.sort_values(0)\n",
    "\n",
    "for i in range(len(correlation)):\n",
    "    print(correlation[1][i])"
   ]
  },
  {
   "cell_type": "code",
   "execution_count": 50,
   "metadata": {},
   "outputs": [
    {
     "name": "stdout",
     "output_type": "stream",
     "text": [
      "11130.477169003187\n",
      "2286.426832628531\n",
      "0.0\n",
      "0.46854840131568914\n",
      "8.074007497620023\n",
      "4.982400138697053\n",
      "1223.5607416044397\n",
      "1223.5607416044397\n",
      "99359.26689037033\n",
      "2.1143753210409972\n"
     ]
    }
   ],
   "source": [
    "# Method: Chi-Square\n",
    "ChiSquared = df.loc[df['Method'] == 'Chi-Squared']\n",
    "ChiSquared.sort_values(0)\n",
    "\n",
    "for i in range(len(ChiSquared)):\n",
    "    print(ChiSquared[1][i])"
   ]
  },
  {
   "cell_type": "code",
   "execution_count": 51,
   "metadata": {},
   "outputs": [
    {
     "name": "stdout",
     "output_type": "stream",
     "text": [
      "1.1465068510374294\n",
      "0.04913638391644781\n",
      "0.06846095510536543\n",
      "0.06846095510536543\n",
      "1.0351118630470637\n",
      "1.1398096398916095\n",
      "1.2569620175636373\n",
      "1.3534432270998877\n",
      "0.017037612843523675\n",
      "0.9548498154535991\n"
     ]
    }
   ],
   "source": [
    "# Method: Intersection\n",
    "Intersection = df.loc[df['Method'] == 'Intersection']\n",
    "Intersection.sort_values(0)\n",
    "\n",
    "for i in range(len(Intersection)):\n",
    "    print(Intersection[1][i])"
   ]
  },
  {
   "cell_type": "code",
   "execution_count": 52,
   "metadata": {},
   "outputs": [
    {
     "name": "stdout",
     "output_type": "stream",
     "text": [
      "0.5414776988745068\n",
      "0.9411999019062316\n",
      "0.0\n",
      "0.1610709497331469\n",
      "0.34973544724834466\n",
      "0.38059305604662713\n",
      "0.8927848297517853\n",
      "0.8927848297517853\n",
      "0.9112322888562902\n",
      "0.2995433724518647\n"
     ]
    }
   ],
   "source": [
    "# Method: Bhattacharyya\n",
    "Bhattacharyya = df.loc[df['Method'] == 'Bhattacharyya']\n",
    "Bhattacharyya.sort_values(0)\n",
    "\n",
    "for i in range(len(Bhattacharyya)):\n",
    "    print(Bhattacharyya[1][i])"
   ]
  }
 ],
 "metadata": {
  "kernelspec": {
   "display_name": "base",
   "language": "python",
   "name": "python3"
  },
  "language_info": {
   "codemirror_mode": {
    "name": "ipython",
    "version": 3
   },
   "file_extension": ".py",
   "mimetype": "text/x-python",
   "name": "python",
   "nbconvert_exporter": "python",
   "pygments_lexer": "ipython3",
   "version": "3.9.13"
  },
  "orig_nbformat": 4
 },
 "nbformat": 4,
 "nbformat_minor": 2
}
