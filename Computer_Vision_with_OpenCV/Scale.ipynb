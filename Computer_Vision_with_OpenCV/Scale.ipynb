{
 "cells": [
  {
   "attachments": {},
   "cell_type": "markdown",
   "metadata": {},
   "source": [
    "## Geometric Transformations: Scale Adjustment\n",
    "\n",
    "The operation to perform scale adjustments, that is, proportionally change its dimensions without distorting the represented object, can be performed using the resize function of the OpenCV library\n",
    "\n",
    "##### Library Importing"
   ]
  },
  {
   "cell_type": "code",
   "execution_count": 1,
   "metadata": {},
   "outputs": [],
   "source": [
    "import cv2 as cv\n",
    "import numpy as np\n",
    "from matplotlib import pyplot as plt\n",
    "%matplotlib inline"
   ]
  },
  {
   "attachments": {},
   "cell_type": "markdown",
   "metadata": {},
   "source": [
    "##### Image Reading"
   ]
  },
  {
   "cell_type": "code",
   "execution_count": 4,
   "metadata": {},
   "outputs": [],
   "source": [
    "originalImg = cv.imread(\"Resources/Img/einstein.jpg\", 0)"
   ]
  },
  {
   "attachments": {},
   "cell_type": "markdown",
   "metadata": {},
   "source": [
    "### Scale Adjustment\n",
    "\n",
    "`resize(src, dst, fx, fy, interpolation)` <br>\n",
    "\n",
    "* Input: <br>\n",
    "    1. `src`: Matrix referring to the image; <br>\n",
    "    2. `dst`: Output image; <br>\n",
    "    3. `fx`: Horizontal scale factor; <br>\n",
    "    4. `fy`: Vertical scale factor; <br>\n",
    "    5. `interpolation`: Interpolarion method <br>\n",
    "        `INTER_NEAREST` <br>\n",
    "        `INTER_LINEAR` <br>\n",
    "        `INTER_AREA` <br>\n",
    "        `INTER_CUBIC` <br><br>\n",
    "\n",
    "* Output: Modified image."
   ]
  },
  {
   "cell_type": "code",
   "execution_count": 5,
   "metadata": {},
   "outputs": [],
   "source": [
    "modifiedImg = cv.resize(originalImg,\n",
    "                        None,\n",
    "                        fx = 0.8,\n",
    "                        fy = 0.8,\n",
    "                        interpolation = cv.INTER_CUBIC)"
   ]
  },
  {
   "cell_type": "code",
   "execution_count": null,
   "metadata": {},
   "outputs": [],
   "source": [
    "cv.imshow(\"Original Image\", originalImg)\n",
    "cv.imshow(\"Modified Image\", modifiedImg)\n",
    "cv.waitKey(0)\n",
    "cv.destroyAllWindows()"
   ]
  }
 ],
 "metadata": {
  "kernelspec": {
   "display_name": "base",
   "language": "python",
   "name": "python3"
  },
  "language_info": {
   "codemirror_mode": {
    "name": "ipython",
    "version": 3
   },
   "file_extension": ".py",
   "mimetype": "text/x-python",
   "name": "python",
   "nbconvert_exporter": "python",
   "pygments_lexer": "ipython3",
   "version": "3.9.13"
  },
  "orig_nbformat": 4
 },
 "nbformat": 4,
 "nbformat_minor": 2
}
